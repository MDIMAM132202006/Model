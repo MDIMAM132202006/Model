{
 "cells": [
  {
   "cell_type": "code",
   "execution_count": 1,
   "id": "579d5128-167e-433d-91e2-ce2a3122dab6",
   "metadata": {},
   "outputs": [],
   "source": [
    "import numpy as np"
   ]
  },
  {
   "cell_type": "code",
   "execution_count": 15,
   "id": "0024f06b-6b16-4f80-a0ea-356de7fd7b61",
   "metadata": {},
   "outputs": [
    {
     "name": "stdout",
     "output_type": "stream",
     "text": [
      "Matrix A:\n",
      "[[ 2. -1.  1.  1.]\n",
      " [ 1.  2. -1. -1.]\n",
      " [-1.  2.  2.  2.]\n",
      " [ 1. -1.  2.  1.]]\n",
      "\n",
      "Arraay b:\n",
      "[ 6.  3. 14.  8.]\n"
     ]
    }
   ],
   "source": [
    "A = np.array([     \n",
    "        [2, -1, 1, 1],\n",
    "        [1, 2, -1, -1],\n",
    "        [-1, 2, 2, 2],\n",
    "        [1, -1, 2, 1]    \n",
    "    ], dtype=np.dtype(float)) \n",
    "b = np.array([6, 3, 14, 8], dtype=np.dtype(float))\n",
    "print(\"Matrix A:\")\n",
    "print(A)\n",
    "print(\"\\nArraay b:\")\n",
    "print(b)"
   ]
  },
  {
   "cell_type": "code",
   "execution_count": 16,
   "id": "2daf5359-aa76-4c0e-a6f1-acf7eb73747f",
   "metadata": {},
   "outputs": [
    {
     "name": "stdout",
     "output_type": "stream",
     "text": [
      "Shape of A: (4, 4)\n",
      "Shape of b: (4,)\n"
     ]
    }
   ],
   "source": [
    "print(f\"Shape of A: {np.shape(A)}\")\n",
    "print(f\"Shape of b: {np.shape(b)}\")"
   ]
  },
  {
   "cell_type": "code",
   "execution_count": 17,
   "id": "131f7fee-1d6a-49b5-8759-3b2d7281467a",
   "metadata": {},
   "outputs": [
    {
     "name": "stdout",
     "output_type": "stream",
     "text": [
      "Solution: [2. 3. 4. 1.]\n"
     ]
    }
   ],
   "source": [
    "x = np.linalg.solve(A,b)\n",
    "\n",
    "print(f\"Solution: {x}\")"
   ]
  },
  {
   "cell_type": "code",
   "execution_count": 18,
   "id": "769ea70a-52e7-4b8a-a923-a6e3577a08e8",
   "metadata": {},
   "outputs": [
    {
     "name": "stdout",
     "output_type": "stream",
     "text": [
      "Determinant of matrix A: -17.00\n"
     ]
    }
   ],
   "source": [
    "d = np.linalg.det(A)\n",
    "\n",
    "print(f\"Determinant of matrix A: {d:.2f}\")"
   ]
  },
  {
   "cell_type": "code",
   "execution_count": 20,
   "id": "6d113f77-68e8-4145-8120-9404f751f16b",
   "metadata": {},
   "outputs": [
    {
     "name": "stdout",
     "output_type": "stream",
     "text": [
      "[[ 2. -1.  1.  1.  6.]\n",
      " [ 1.  2. -1. -1.  3.]\n",
      " [-1.  2.  2.  2. 14.]\n",
      " [ 1. -1.  2.  1.  8.]]\n"
     ]
    }
   ],
   "source": [
    "A_system = np.hstack((A, b.reshape((4,1))))\n",
    "\n",
    "print(A_system)"
   ]
  },
  {
   "cell_type": "code",
   "execution_count": 8,
   "id": "e54f09b8-607e-4cc4-89d7-02ad5de5e6d8",
   "metadata": {},
   "outputs": [],
   "source": [
    "def MultiplyRow(M,row_num,row_num_multiple):\n",
    "    M_new = M.copy()\n",
    "    M_new[row_num] = M_new[row_num] * row_num_multiple\n",
    "    return M_new"
   ]
  },
  {
   "cell_type": "code",
   "execution_count": 21,
   "id": "8c7d5d07-8bef-44c6-943d-fac5c505b31f",
   "metadata": {},
   "outputs": [],
   "source": [
    "def AddRows(M, row_num_1, row_num_2, row_num_1_multiple):\n",
    "    M_new = M.copy()     \n",
    "    M_new[row_num_2] = row_num_1_multiple * M_new[row_num_1] + M_new[row_num_2]\n",
    "    return M_new"
   ]
  },
  {
   "cell_type": "code",
   "execution_count": 22,
   "id": "e15b8182-3cbf-4baa-9854-9fd150f90471",
   "metadata": {},
   "outputs": [],
   "source": [
    "def SwapRows(M, row_num_1, row_num_2):\n",
    "    M_new = M.copy()     \n",
    "    M_new[[row_num_1, row_num_2]] = M_new[[row_num_2, row_num_1]]\n",
    "    return M_new"
   ]
  },
  {
   "cell_type": "code",
   "execution_count": 62,
   "id": "a2afefa6-da55-4c8b-95b4-700a98b3260d",
   "metadata": {},
   "outputs": [
    {
     "name": "stdout",
     "output_type": "stream",
     "text": [
      "[[ 1.          2.         -1.         -1.          3.        ]\n",
      " [ 0.          1.          4.          3.         22.        ]\n",
      " [-0.         -0.          1.          0.73333333  4.73333333]\n",
      " [ 0.          0.          0.          1.          1.        ]]\n"
     ]
    }
   ],
   "source": [
    "def augmented_to_ref(A,b):\n",
    "    \n",
    "    A_system = np.hstack((A,b.reshape((4,1))))\n",
    "    \n",
    "    A_ref = SwapRows(A_system,0,1)\n",
    "    \n",
    "    A_ref = MultiplyRow(A_ref,0,-2)\n",
    "    \n",
    "    A_ref = AddRows(A_ref,0,1,1)\n",
    "    \n",
    "    A_ref = MultiplyRow(A_ref,0,-1)\n",
    "    \n",
    "    A_ref = AddRows(A_ref,0,3,1)\n",
    "    \n",
    "    A_ref = AddRows(A_ref,2,3,1)\n",
    "    \n",
    "    A_ref = SwapRows(A_ref,1,3)\n",
    "    \n",
    "    A_ref = AddRows(A_ref,0,1,-1)\n",
    "    \n",
    "    A_ref = AddRows(A_ref,0,2,1/2)\n",
    "    \n",
    "    A_ref = AddRows(A_ref,1,3,5)\n",
    "    \n",
    "    A_ref = AddRows(A_ref,1,2,-4)\n",
    "    \n",
    "    A_ref = MultiplyRow(A_ref,0,1/2)\n",
    "    \n",
    "    A_ref = AddRows(A_ref,2,3,23/15)\n",
    "    \n",
    "    A_ref = MultiplyRow(A_ref,3,1/1.13333333)\n",
    "    \n",
    "    A_ref = MultiplyRow(A_ref,2,-1/15)\n",
    "    \n",
    "    return A_ref\n",
    "\n",
    "A_ref = augmented_to_ref(A,b)\n",
    "\n",
    "print(A_ref)"
   ]
  },
  {
   "cell_type": "code",
   "execution_count": null,
   "id": "7f4dcbc6-f10c-4631-8027-7dd040880da0",
   "metadata": {},
   "outputs": [],
   "source": []
  }
 ],
 "metadata": {
  "kernelspec": {
   "display_name": "Python 3 (ipykernel)",
   "language": "python",
   "name": "python3"
  },
  "language_info": {
   "codemirror_mode": {
    "name": "ipython",
    "version": 3
   },
   "file_extension": ".py",
   "mimetype": "text/x-python",
   "name": "python",
   "nbconvert_exporter": "python",
   "pygments_lexer": "ipython3",
   "version": "3.10.8"
  }
 },
 "nbformat": 4,
 "nbformat_minor": 5
}
