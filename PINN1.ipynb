{
 "cells": [
  {
   "cell_type": "code",
   "execution_count": 1,
   "id": "9767a7af-2be0-498d-9d7f-2ca178d1a846",
   "metadata": {},
   "outputs": [],
   "source": [
    "# Boundary Conditions"
   ]
  },
  {
   "cell_type": "code",
   "execution_count": 2,
   "id": "b08b8464-9568-4bda-a5cb-75f2b8b4a1a2",
   "metadata": {},
   "outputs": [
    {
     "ename": "ModuleNotFoundError",
     "evalue": "No module named 'torch'",
     "output_type": "error",
     "traceback": [
      "\u001b[0;31m---------------------------------------------------------------------------\u001b[0m",
      "\u001b[0;31mModuleNotFoundError\u001b[0m                       Traceback (most recent call last)",
      "Cell \u001b[0;32mIn[2], line 1\u001b[0m\n\u001b[0;32m----> 1\u001b[0m \u001b[38;5;28;01mimport\u001b[39;00m \u001b[38;5;21;01mtorch\u001b[39;00m\n\u001b[1;32m      5\u001b[0m \u001b[38;5;28;01mclass\u001b[39;00m \u001b[38;5;21;01mNeumannBC\u001b[39;00m:\n\u001b[1;32m      6\u001b[0m     \u001b[38;5;28;01mdef\u001b[39;00m \u001b[38;5;21m__init__\u001b[39m(\u001b[38;5;28mself\u001b[39m):\n",
      "\u001b[0;31mModuleNotFoundError\u001b[0m: No module named 'torch'"
     ]
    }
   ],
   "source": [
    "import torch\n",
    "\n",
    "\n",
    "\n",
    "class NeumannBC:\n",
    "    def __init__(self):\n",
    "        pass\n",
    "\n",
    "    def apply(self, model, x_boundary, u_boundary, n_out, u_pred_var_list, u_train_var_list, space_dim = None, x_boundary_sym=None, boundary=None, vel_wave=None):\n",
    "        x_boundary.requires_grad=True\n",
    "        u_boundary_pred = model(x_boundary)\n",
    "        grad_u = torch.autograd.grad(u_boundary_pred, x_boundary, grad_outputs=torch.ones_like(u_boundary_pred), create_graph=True)[0]\n",
    "        grad_u_t = grad_u[:, 0]\n",
    "        grad_u_n = grad_u[:, 1 + space_dim]\n",
    "\n",
    "        if boundary == 1:\n",
    "            n = torch.ones_like(grad_u_n)\n",
    "        else:\n",
    "            n = -torch.ones_like(grad_u_n)\n",
    "\n",
    "        absorb = grad_u_n\n",
    "        u_pred_var_list.append(absorb)\n",
    "        u_train_var_list.append(torch.zeros_like(absorb))\n",
    "        return boundary"
   ]
  },
  {
   "cell_type": "code",
   "execution_count": 3,
   "id": "5890713b-af85-4ecc-b715-5d23af918b92",
   "metadata": {},
   "outputs": [],
   "source": [
    "# datasets"
   ]
  },
  {
   "cell_type": "code",
   "execution_count": 4,
   "id": "5263eb24-4f22-49e2-aaf6-81789638802a",
   "metadata": {},
   "outputs": [
    {
     "ename": "ModuleNotFoundError",
     "evalue": "No module named 'torch'",
     "output_type": "error",
     "traceback": [
      "\u001b[0;31m---------------------------------------------------------------------------\u001b[0m",
      "\u001b[0;31mModuleNotFoundError\u001b[0m                       Traceback (most recent call last)",
      "Cell \u001b[0;32mIn[4], line 1\u001b[0m\n\u001b[0;32m----> 1\u001b[0m \u001b[38;5;28;01mimport\u001b[39;00m \u001b[38;5;21;01mtorch\u001b[39;00m\n\u001b[1;32m      2\u001b[0m \u001b[38;5;28;01mimport\u001b[39;00m \u001b[38;5;21;01mtorch\u001b[39;00m\u001b[38;5;21;01m.\u001b[39;00m\u001b[38;5;21;01mutils\u001b[39;00m\n\u001b[1;32m      3\u001b[0m \u001b[38;5;28;01mimport\u001b[39;00m \u001b[38;5;21;01mtorch\u001b[39;00m\u001b[38;5;21;01m.\u001b[39;00m\u001b[38;5;21;01mutils\u001b[39;00m\u001b[38;5;21;01m.\u001b[39;00m\u001b[38;5;21;01mdata\u001b[39;00m\n",
      "\u001b[0;31mModuleNotFoundError\u001b[0m: No module named 'torch'"
     ]
    }
   ],
   "source": [
    "import torch\n",
    "import torch.utils\n",
    "import torch.utils.data\n",
    "from torch.utils.data import DataLoader\n",
    "\n",
    "\n",
    "class DefineDataset:\n",
    "    def __init__(self, Ec, n_collocation, n_boundary, n_initial, n_internal, batches, random_seed, shuffle=False):\n",
    "        self.Ec = Ec\n",
    "        self.n_collocation = n_collocation\n",
    "        self.n_boundary = n_boundary\n",
    "        self.n_initial = n_initial\n",
    "        self.n_internal = n_internal\n",
    "        self.batches = batches\n",
    "        self.random_seed = random_seed\n",
    "        self.shuffle = shuffle\n",
    "\n",
    "        self.space_dimensions = self.Ec.space_dimensions\n",
    "        self.time_dimensions = self.Ec.time_dimensions\n",
    "        self.input_dimensions = self.Ec.space_dimensions + self.Ec.time_dimensions\n",
    "        self.output_dimension = self.Ec.output_dimension\n",
    "        self.n_samples = self.n_collocation + 2 * self.n_boundary * self.space_dimensions + self.n_initial * self.time_dimensions + self.n_internal\n",
    "        self.BC = None\n",
    "        self.data_coll = None\n",
    "        self.data_boundary = None\n",
    "        self.data_initial_internal = None\n",
    "\n",
    "        if self.batches == \"full\":\n",
    "            self.batches = int(self.n_samples)\n",
    "        else:\n",
    "            self.batches = int(self.batches)\n",
    "\n",
    "    def assemble_dataset(self):\n",
    "\n",
    "        fraction_coll = int(self.batches * self.n_collocation / self.n_samples)\n",
    "        fraction_boundary = int(self.batches * 2 * self.n_boundary * self.space_dimensions / self.n_samples)\n",
    "        fraction_initial = int(self.batches * self.n_initial / self.n_samples)\n",
    "        fraction_internal = int(self.batches * self.n_internal / self.n_samples)\n",
    "\n",
    "        x_coll, y_coll = self.Ec.add_collocation_points(self.n_collocation, self.random_seed)\n",
    "        x_b, y_b = self.Ec.add_boundary_points(self.n_boundary, self.random_seed)\n",
    "\n",
    "        x_time_internal, y_time_internal = self.Ec.add_initial_points(self.n_initial, self.random_seed)\n",
    "        if self.n_internal != 0:\n",
    "            x_internal, y_internal = self.Ec.add_internal_points(self.n_internal, self.random_seed)\n",
    "            print(y_time_internal, y_internal)\n",
    "            x_time_internal = torch.cat([x_time_internal, x_internal], 0)\n",
    "            y_time_internal = torch.cat([y_time_internal, y_internal], 0)\n",
    "\n",
    "        print(\"###################################\")\n",
    "        print(\"collocation: \", x_coll, x_coll.shape, y_coll.shape)\n",
    "        print(\"internal: \",x_time_internal, x_time_internal.shape, y_time_internal.shape)\n",
    "        print(\"boundary: \",x_b, x_b.shape, y_b.shape)\n",
    "        print(\"###################################\")\n",
    "\n",
    "        if self.n_collocation == 0:\n",
    "            self.data_coll = DataLoader(torch.utils.data.TensorDataset(x_coll, y_coll), batch_size=1, shuffle=False)\n",
    "        else:\n",
    "            self.data_coll = DataLoader(torch.utils.data.TensorDataset(x_coll, y_coll), batch_size=fraction_coll, shuffle=self.shuffle)\n",
    "\n",
    "        if self.n_boundary == 0:\n",
    "            self.data_boundary = DataLoader(torch.utils.data.TensorDataset(x_b, y_b), batch_size=1, shuffle=False)\n",
    "        else:\n",
    "            self.data_boundary = DataLoader(torch.utils.data.TensorDataset(x_b, y_b), batch_size=fraction_boundary, shuffle=self.shuffle)\n",
    "\n",
    "        if fraction_internal == 0 and fraction_initial == 0:\n",
    "            self.data_initial_internal = DataLoader(torch.utils.data.TensorDataset(x_time_internal, y_time_internal), batch_size=1, shuffle=False)\n",
    "        else:\n",
    "            self.data_initial_internal = DataLoader(torch.utils.data.TensorDataset(x_time_internal, y_time_internal), batch_size=fraction_initial + fraction_internal,\n",
    "                                                    shuffle=self.shuffle)"
   ]
  },
  {
   "cell_type": "code",
   "execution_count": null,
   "id": "a4c55472-f1cc-4c45-96be-9c599f1f69a0",
   "metadata": {},
   "outputs": [],
   "source": []
  }
 ],
 "metadata": {
  "kernelspec": {
   "display_name": "Python 3 (ipykernel)",
   "language": "python",
   "name": "python3"
  },
  "language_info": {
   "codemirror_mode": {
    "name": "ipython",
    "version": 3
   },
   "file_extension": ".py",
   "mimetype": "text/x-python",
   "name": "python",
   "nbconvert_exporter": "python",
   "pygments_lexer": "ipython3",
   "version": "3.10.8"
  }
 },
 "nbformat": 4,
 "nbformat_minor": 5
}
