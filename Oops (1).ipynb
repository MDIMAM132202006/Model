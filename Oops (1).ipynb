{
 "cells": [
  {
   "cell_type": "code",
   "execution_count": 1,
   "id": "17c75d21-b09e-47e5-9ec9-1a7e7e07eaa2",
   "metadata": {},
   "outputs": [],
   "source": [
    "a = 1"
   ]
  },
  {
   "cell_type": "code",
   "execution_count": 2,
   "id": "72898978-d3de-448f-8808-e244b77f458e",
   "metadata": {},
   "outputs": [
    {
     "name": "stdout",
     "output_type": "stream",
     "text": [
      "<class 'int'>\n"
     ]
    }
   ],
   "source": [
    "print(type(a))"
   ]
  },
  {
   "cell_type": "code",
   "execution_count": 3,
   "id": "ba72547b-4f87-4667-9c06-e64c1ee332e0",
   "metadata": {},
   "outputs": [],
   "source": [
    "class test:\n",
    "    pass"
   ]
  },
  {
   "cell_type": "code",
   "execution_count": 4,
   "id": "e94e9e0a-1d89-42b2-a5cc-26ced7b7a7ec",
   "metadata": {},
   "outputs": [],
   "source": [
    "a = test()"
   ]
  },
  {
   "cell_type": "code",
   "execution_count": 5,
   "id": "808ff4bc-a23b-46c0-81a3-4eee186bbdd0",
   "metadata": {},
   "outputs": [
    {
     "data": {
      "text/plain": [
       "__main__.test"
      ]
     },
     "execution_count": 5,
     "metadata": {},
     "output_type": "execute_result"
    }
   ],
   "source": [
    "type(a)"
   ]
  },
  {
   "cell_type": "code",
   "execution_count": 16,
   "id": "878b778e-3807-4e5d-8cf8-28d1ca08d11b",
   "metadata": {},
   "outputs": [],
   "source": [
    "class pwskills:\n",
    "    \n",
    "    def welcome_message(self) :\n",
    "        print(\"welcome to pwskills\")\n",
    "        "
   ]
  },
  {
   "cell_type": "code",
   "execution_count": 17,
   "id": "8860d989-115c-415f-b914-6d0026fd2b20",
   "metadata": {},
   "outputs": [],
   "source": [
    "imam = pwskills()"
   ]
  },
  {
   "cell_type": "code",
   "execution_count": 18,
   "id": "394dd462-36f7-409d-ad71-3bda04ddda9a",
   "metadata": {},
   "outputs": [
    {
     "name": "stdout",
     "output_type": "stream",
     "text": [
      "welcome to pwskills\n"
     ]
    }
   ],
   "source": [
    "imam.welcome_message()"
   ]
  },
  {
   "cell_type": "code",
   "execution_count": 22,
   "id": "90ab8462-3627-4d84-87ff-725f0be59a66",
   "metadata": {},
   "outputs": [],
   "source": [
    "class pwskills1 :\n",
    "    \n",
    "    def __init__(self,phone_number,email_id,student_id) :\n",
    "        self.phone_number = phone_number\n",
    "        self.email_id = email_id\n",
    "        self.student_id = student_id\n",
    "        \n",
    "    def return_student_details(self):\n",
    "        return self.student_id ,self.phone_number,self.email_id"
   ]
  },
  {
   "cell_type": "code",
   "execution_count": 23,
   "id": "6e49f5e6-6220-4d14-93f0-634ba0359ec9",
   "metadata": {},
   "outputs": [],
   "source": [
    "imam = pwskills1(9311426193, \"imam@gmail.com\" , 132202006)"
   ]
  },
  {
   "cell_type": "code",
   "execution_count": 24,
   "id": "5a0c9659-14f0-43e0-a167-e780a7dc1195",
   "metadata": {},
   "outputs": [
    {
     "data": {
      "text/plain": [
       "(132202006, 9311426193, 'imam@gmail.com')"
      ]
     },
     "execution_count": 24,
     "metadata": {},
     "output_type": "execute_result"
    }
   ],
   "source": [
    "imam.return_student_details()"
   ]
  },
  {
   "cell_type": "code",
   "execution_count": null,
   "id": "47831a7e-85c3-4027-a12f-16a54b25bca4",
   "metadata": {},
   "outputs": [],
   "source": []
  }
 ],
 "metadata": {
  "kernelspec": {
   "display_name": "Python 3 (ipykernel)",
   "language": "python",
   "name": "python3"
  },
  "language_info": {
   "codemirror_mode": {
    "name": "ipython",
    "version": 3
   },
   "file_extension": ".py",
   "mimetype": "text/x-python",
   "name": "python",
   "nbconvert_exporter": "python",
   "pygments_lexer": "ipython3",
   "version": "3.10.8"
  }
 },
 "nbformat": 4,
 "nbformat_minor": 5
}
