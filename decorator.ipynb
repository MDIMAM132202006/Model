{
 "cells": [
  {
   "cell_type": "code",
   "execution_count": 1,
   "id": "1a471ea9-6dab-41a1-9259-3d200c825c3f",
   "metadata": {},
   "outputs": [],
   "source": [
    "def test():\n",
    "    print(\"this is my fun to test\")"
   ]
  },
  {
   "cell_type": "code",
   "execution_count": 2,
   "id": "63a3070a-851f-487c-bdd9-328cc73e007c",
   "metadata": {},
   "outputs": [
    {
     "name": "stdout",
     "output_type": "stream",
     "text": [
      "this is my fun to test\n"
     ]
    }
   ],
   "source": [
    "test()"
   ]
  },
  {
   "cell_type": "code",
   "execution_count": 6,
   "id": "b1df7fe2-dd8d-4ce7-81c7-0a31706c7e2d",
   "metadata": {},
   "outputs": [],
   "source": [
    "def deco(func):\n",
    "    def inner_dec():\n",
    "        print(\"this is the start of my fun\")\n",
    "        func()\n",
    "        print(\"this is the end of my fun\")\n",
    "    return inner_dec"
   ]
  },
  {
   "cell_type": "code",
   "execution_count": 21,
   "id": "266f3fb7-c091-4b94-adb8-afbb8b777d41",
   "metadata": {},
   "outputs": [],
   "source": [
    "@deco\n",
    "def test1():\n",
    "    print(6+7)"
   ]
  },
  {
   "cell_type": "code",
   "execution_count": 22,
   "id": "d81cdec6-626a-4af8-a074-2f181471337f",
   "metadata": {},
   "outputs": [
    {
     "name": "stdout",
     "output_type": "stream",
     "text": [
      "this is the start of my fun\n",
      "13\n",
      "this is the end of my fun\n"
     ]
    }
   ],
   "source": [
    "test1()"
   ]
  },
  {
   "cell_type": "code",
   "execution_count": 23,
   "id": "81862ccd-ed4b-4c2d-8c6a-84045aafc082",
   "metadata": {},
   "outputs": [],
   "source": [
    "import time\n",
    "\n",
    "def timer_test(func) :\n",
    "    def timer_test_inner ():\n",
    "        start = time.time()\n",
    "        func()\n",
    "        end = time.time()\n",
    "    return timer_test_inner"
   ]
  },
  {
   "cell_type": "code",
   "execution_count": 24,
   "id": "d57f52ed-3bc7-4303-9d3b-ac214cdcdc3a",
   "metadata": {},
   "outputs": [],
   "source": [
    "@timer_test\n",
    "def test2():\n",
    "    print(45+34)"
   ]
  },
  {
   "cell_type": "code",
   "execution_count": 25,
   "id": "964bef6d-b56c-4f7a-a315-b09e5793b2b2",
   "metadata": {},
   "outputs": [
    {
     "name": "stdout",
     "output_type": "stream",
     "text": [
      "79\n"
     ]
    }
   ],
   "source": [
    "test2()"
   ]
  },
  {
   "cell_type": "code",
   "execution_count": 26,
   "id": "bb9833c6-cf2f-4d10-bf69-e31cde2d1239",
   "metadata": {},
   "outputs": [],
   "source": [
    "# class method"
   ]
  },
  {
   "cell_type": "code",
   "execution_count": 27,
   "id": "84d375e0-dddb-44bb-b029-aa9790b058ad",
   "metadata": {},
   "outputs": [],
   "source": [
    "class pwskills :\n",
    "    def __init__(self , name , email):\n",
    "        \n",
    "        self.name = name\n",
    "        self.email = email\n",
    "        \n",
    "    def students_details(self):\n",
    "        print(self.name , self.email)"
   ]
  },
  {
   "cell_type": "code",
   "execution_count": 28,
   "id": "4fe15f95-c67b-4799-bb11-026974e48d26",
   "metadata": {},
   "outputs": [],
   "source": [
    "pw = pwskills(\"imam\" , \"imammd@gmail.com\")"
   ]
  },
  {
   "cell_type": "code",
   "execution_count": 29,
   "id": "8a643035-72b8-4b09-86db-b3bf0ab6b1d5",
   "metadata": {},
   "outputs": [
    {
     "data": {
      "text/plain": [
       "'imam'"
      ]
     },
     "execution_count": 29,
     "metadata": {},
     "output_type": "execute_result"
    }
   ],
   "source": [
    "pw.name"
   ]
  },
  {
   "cell_type": "code",
   "execution_count": 30,
   "id": "ccf0c3c4-dedc-4717-9f24-bfa3a2903bbf",
   "metadata": {},
   "outputs": [
    {
     "data": {
      "text/plain": [
       "'imammd@gmail.com'"
      ]
     },
     "execution_count": 30,
     "metadata": {},
     "output_type": "execute_result"
    }
   ],
   "source": [
    "pw.email"
   ]
  },
  {
   "cell_type": "code",
   "execution_count": 33,
   "id": "fb1d3c5d-527c-4648-b891-9ea964d4ba61",
   "metadata": {},
   "outputs": [
    {
     "name": "stdout",
     "output_type": "stream",
     "text": [
      "imam imammd@gmail.com\n"
     ]
    }
   ],
   "source": [
    "pw.students_details()"
   ]
  },
  {
   "cell_type": "code",
   "execution_count": 16,
   "id": "8b643aa3-ad91-4922-ab8e-fac51c2ab511",
   "metadata": {},
   "outputs": [],
   "source": [
    " class pwskills1 :\n",
    "        \n",
    "        \n",
    "    def __init__(self , name , email):\n",
    "        \n",
    "        self.name = name\n",
    "        self.email = email\n",
    "    \n",
    "    @classmethod\n",
    "    def details(cls , name ,email ) :\n",
    "        return cls(name , email)\n",
    "        \n",
    "    def students_details(self):\n",
    "        print(self.name , self.email)"
   ]
  },
  {
   "cell_type": "code",
   "execution_count": 17,
   "id": "6e62ccd8-6d31-4e4a-8ea4-b052d697706d",
   "metadata": {},
   "outputs": [],
   "source": [
    "pw1 = pwskills1.details(\"imam\" , \"imam@gmail\")"
   ]
  },
  {
   "cell_type": "code",
   "execution_count": 18,
   "id": "012f0e51-23d8-47ac-921f-a3d00f2010fa",
   "metadata": {},
   "outputs": [
    {
     "data": {
      "text/plain": [
       "'imam'"
      ]
     },
     "execution_count": 18,
     "metadata": {},
     "output_type": "execute_result"
    }
   ],
   "source": [
    "pw1.name"
   ]
  },
  {
   "cell_type": "code",
   "execution_count": 20,
   "id": "1626dba0-525d-42ec-892f-9abb80dab859",
   "metadata": {},
   "outputs": [
    {
     "data": {
      "text/plain": [
       "'imam@gmail'"
      ]
     },
     "execution_count": 20,
     "metadata": {},
     "output_type": "execute_result"
    }
   ],
   "source": [
    "pw1.email"
   ]
  },
  {
   "cell_type": "code",
   "execution_count": 32,
   "id": "2c596348-48dd-4254-9cdd-8d9ce116d006",
   "metadata": {},
   "outputs": [],
   "source": [
    "class pwskills2 :\n",
    "    \n",
    "    mobile_number = 9311426193\n",
    "        \n",
    "        \n",
    "    def __init__(self , name , email):\n",
    "        \n",
    "        self.name = name\n",
    "        self.email = email\n",
    "    \n",
    "    @classmethod\n",
    "    def chsnge_number(cls,mobile):\n",
    "        pwskills2.mobile_num = mobile\n",
    "    \n",
    "    @classmethod\n",
    "    def details(cls , name ,email ) :\n",
    "        return cls(name , email)\n",
    "        \n",
    "    def students_details(self):\n",
    "        print(self.name , self.email)"
   ]
  },
  {
   "cell_type": "code",
   "execution_count": 33,
   "id": "c574fd32-93b4-48a1-bc66-1b60ee23a540",
   "metadata": {},
   "outputs": [
    {
     "data": {
      "text/plain": [
       "9311426193"
      ]
     },
     "execution_count": 33,
     "metadata": {},
     "output_type": "execute_result"
    }
   ],
   "source": [
    "pwskills2.mobile_number"
   ]
  },
  {
   "cell_type": "code",
   "execution_count": 37,
   "id": "24ed1661-fa60-4917-bd42-b7923e484247",
   "metadata": {},
   "outputs": [
    {
     "ename": "AttributeError",
     "evalue": "type object 'pwskills2' has no attribute 'change_number'",
     "output_type": "error",
     "traceback": [
      "\u001b[0;31m---------------------------------------------------------------------------\u001b[0m",
      "\u001b[0;31mAttributeError\u001b[0m                            Traceback (most recent call last)",
      "Cell \u001b[0;32mIn[37], line 1\u001b[0m\n\u001b[0;32m----> 1\u001b[0m pw_object \u001b[38;5;241m=\u001b[39m \u001b[43mpwskills2\u001b[49m\u001b[38;5;241;43m.\u001b[39;49m\u001b[43mchange_number\u001b[49m(\u001b[38;5;241m9798024801\u001b[39m)\n",
      "\u001b[0;31mAttributeError\u001b[0m: type object 'pwskills2' has no attribute 'change_number'"
     ]
    }
   ],
   "source": [
    "pw_object = pwskills2.change_number(9798024801)"
   ]
  },
  {
   "cell_type": "code",
   "execution_count": 40,
   "id": "6837a90e-1130-4da7-abaf-a2e2f966f96d",
   "metadata": {},
   "outputs": [],
   "source": [
    "class pwskills3 :\n",
    "    \n",
    "    mobile_number = 9311426193\n",
    "        \n",
    "        \n",
    "    def __init__(self , name , email):\n",
    "        \n",
    "        self.name = name\n",
    "        self.email = email\n",
    "    \n",
    "    @classmethod\n",
    "    def chsnge_number(cls,mobile):\n",
    "        pwskills2.mobile_num = mobile\n",
    "    \n",
    "    @classmethod\n",
    "    def details(cls , name ,email ) :\n",
    "        return cls(name , email)\n",
    "        \n",
    "    def students_details(self):\n",
    "        print(self.name , self.email)"
   ]
  },
  {
   "cell_type": "code",
   "execution_count": 41,
   "id": "84e95cf4-7401-48a9-a8a4-08c10f1dec0c",
   "metadata": {},
   "outputs": [],
   "source": [
    "def course_details(cls,course_name):\n",
    "    print(\"course name is \" , course_name)\n",
    "    "
   ]
  },
  {
   "cell_type": "code",
   "execution_count": 42,
   "id": "cf0f6815-2996-471e-9b23-c9adeabdd813",
   "metadata": {},
   "outputs": [],
   "source": [
    "pwskills3.course_details = classmethod(course_details)"
   ]
  },
  {
   "cell_type": "code",
   "execution_count": 43,
   "id": "88357a8c-35c3-4a4d-ab86-b250c4a82375",
   "metadata": {},
   "outputs": [
    {
     "name": "stdout",
     "output_type": "stream",
     "text": [
      "course name is  data science masters\n"
     ]
    }
   ],
   "source": [
    "pwskills3.course_details(\"data science masters\")"
   ]
  },
  {
   "cell_type": "code",
   "execution_count": 44,
   "id": "22ad4eec-bec1-4944-b07d-81195fe2b3b4",
   "metadata": {},
   "outputs": [],
   "source": [
    "def mentor (cls,list_of_mentor):\n",
    "    print(list_of_mentor)"
   ]
  },
  {
   "cell_type": "code",
   "execution_count": 45,
   "id": "a7378444-a2c7-4caf-b11e-838dca69b113",
   "metadata": {},
   "outputs": [],
   "source": [
    "pwskills3.mentor = classmethod(mentor)"
   ]
  },
  {
   "cell_type": "code",
   "execution_count": 48,
   "id": "3d0ed3d7-cc29-43e8-8a38-2503829f00f1",
   "metadata": {},
   "outputs": [
    {
     "name": "stdout",
     "output_type": "stream",
     "text": [
      "['md', 'imam']\n"
     ]
    }
   ],
   "source": [
    "pwskills3.mentor([\"md\",\"imam\"])"
   ]
  },
  {
   "cell_type": "code",
   "execution_count": 53,
   "id": "cae3af86-ef7d-4e92-9620-1655a56cf224",
   "metadata": {},
   "outputs": [],
   "source": [
    "class pwskills4 :\n",
    "    \n",
    "    mobile_number = 9311426193\n",
    "        \n",
    "        \n",
    "    def __init__(self , name , email):\n",
    "        \n",
    "        self.name = name\n",
    "        self.email = email\n",
    "    \n",
    "    @classmethod\n",
    "    def change_number(cls,mobile):\n",
    "        pwskills2.mobile_num = mobile\n",
    "    \n",
    "    @classmethod\n",
    "    def details(cls , name ,email ) :\n",
    "        return cls(name , email)\n",
    "        \n",
    "    def students_details(self):\n",
    "        print(self.name , self.email)"
   ]
  },
  {
   "cell_type": "code",
   "execution_count": 54,
   "id": "4b35164f-6748-421b-a27d-ac5c35fa4719",
   "metadata": {},
   "outputs": [],
   "source": [
    "del pwskills4.change_number"
   ]
  },
  {
   "cell_type": "code",
   "execution_count": 55,
   "id": "e9dbb220-751d-4905-a8c6-9c8273b26cdb",
   "metadata": {},
   "outputs": [],
   "source": [
    "delattr(pwskills4,\"details\")"
   ]
  },
  {
   "cell_type": "code",
   "execution_count": 58,
   "id": "79fa1fe6-55e3-48ec-8522-aa639a9f10c0",
   "metadata": {},
   "outputs": [],
   "source": [
    "delattr(pwskills4 , \"students_details\")"
   ]
  },
  {
   "cell_type": "code",
   "execution_count": 60,
   "id": "160e7c84-7fe1-4413-8911-ee1b675fb308",
   "metadata": {},
   "outputs": [],
   "source": [
    "delattr(pwskills4,\"mobile_number\")"
   ]
  },
  {
   "cell_type": "code",
   "execution_count": 2,
   "id": "c27074a6-32ce-4e5f-84b1-b7bea5881af8",
   "metadata": {},
   "outputs": [],
   "source": [
    "#static Method"
   ]
  },
  {
   "cell_type": "code",
   "execution_count": 4,
   "id": "3317f8ea-cf96-4d07-b159-46625ea3ce0e",
   "metadata": {},
   "outputs": [],
   "source": [
    "class pwskills :\n",
    "    \n",
    "    def student_details(self,name,mail_id,number) :\n",
    "        print(name , mail_id,number)"
   ]
  },
  {
   "cell_type": "code",
   "execution_count": 5,
   "id": "7223810e-6af0-4d15-8caa-1362b1f9e4b6",
   "metadata": {},
   "outputs": [],
   "source": [
    "pw = pwskills()"
   ]
  },
  {
   "cell_type": "code",
   "execution_count": 6,
   "id": "7e362bdf-fb22-4620-b7ba-ec366b880fd6",
   "metadata": {},
   "outputs": [
    {
     "name": "stdout",
     "output_type": "stream",
     "text": [
      "imam imam@gmail.com 9311426193\n"
     ]
    }
   ],
   "source": [
    "pw.student_details(\"imam\" , \"imam@gmail.com\" , 9311426193)"
   ]
  },
  {
   "cell_type": "code",
   "execution_count": 11,
   "id": "68efdf11-c43e-4ad6-9da6-aea4287c3a1e",
   "metadata": {},
   "outputs": [],
   "source": [
    "class pwskills1 :\n",
    "    \n",
    "    def student_details(self , name , mail_id , number) :\n",
    "        print(name , mail_id , number)\n",
    "        \n",
    "    \n",
    "    @staticmethod\n",
    "    def mentor_class(list_mentor) :\n",
    "        print(list_mentor)"
   ]
  },
  {
   "cell_type": "code",
   "execution_count": 12,
   "id": "dfe454b5-b531-4e3c-a699-38ce256bcbde",
   "metadata": {},
   "outputs": [
    {
     "name": "stdout",
     "output_type": "stream",
     "text": [
      "['imam', 'md']\n"
     ]
    }
   ],
   "source": [
    "pwskills1.mentor_class([\"imam\" , \"md\"])"
   ]
  },
  {
   "cell_type": "code",
   "execution_count": 14,
   "id": "304e802b-90be-4beb-8cb2-c33247963938",
   "metadata": {},
   "outputs": [],
   "source": [
    "class pwskills2 :\n",
    "    \n",
    "    def student_details(self , name , mail_id , number) :\n",
    "        print(name , mail_id , number)\n",
    "        \n",
    "    \n",
    "    @staticmethod\n",
    "    def mentor_class(list_mentor) :\n",
    "        print(list_mentor)\n",
    "        \n",
    "    @classmethod\n",
    "    def class_name(cls):\n",
    "        cls.mentor_class()\n",
    "        \n",
    "    def mentor(self , mentor_list):\n",
    "        print(mentor_list)"
   ]
  },
  {
   "cell_type": "code",
   "execution_count": 15,
   "id": "9f413c12-931f-4177-a56a-7639465b78af",
   "metadata": {},
   "outputs": [],
   "source": [
    "# magic method"
   ]
  },
  {
   "cell_type": "code",
   "execution_count": 16,
   "id": "aaf9e473-350b-44af-9e33-c2661b49b5eb",
   "metadata": {},
   "outputs": [
    {
     "data": {
      "text/plain": [
       "['__abs__',\n",
       " '__add__',\n",
       " '__and__',\n",
       " '__bool__',\n",
       " '__ceil__',\n",
       " '__class__',\n",
       " '__delattr__',\n",
       " '__dir__',\n",
       " '__divmod__',\n",
       " '__doc__',\n",
       " '__eq__',\n",
       " '__float__',\n",
       " '__floor__',\n",
       " '__floordiv__',\n",
       " '__format__',\n",
       " '__ge__',\n",
       " '__getattribute__',\n",
       " '__getnewargs__',\n",
       " '__gt__',\n",
       " '__hash__',\n",
       " '__index__',\n",
       " '__init__',\n",
       " '__init_subclass__',\n",
       " '__int__',\n",
       " '__invert__',\n",
       " '__le__',\n",
       " '__lshift__',\n",
       " '__lt__',\n",
       " '__mod__',\n",
       " '__mul__',\n",
       " '__ne__',\n",
       " '__neg__',\n",
       " '__new__',\n",
       " '__or__',\n",
       " '__pos__',\n",
       " '__pow__',\n",
       " '__radd__',\n",
       " '__rand__',\n",
       " '__rdivmod__',\n",
       " '__reduce__',\n",
       " '__reduce_ex__',\n",
       " '__repr__',\n",
       " '__rfloordiv__',\n",
       " '__rlshift__',\n",
       " '__rmod__',\n",
       " '__rmul__',\n",
       " '__ror__',\n",
       " '__round__',\n",
       " '__rpow__',\n",
       " '__rrshift__',\n",
       " '__rshift__',\n",
       " '__rsub__',\n",
       " '__rtruediv__',\n",
       " '__rxor__',\n",
       " '__setattr__',\n",
       " '__sizeof__',\n",
       " '__str__',\n",
       " '__sub__',\n",
       " '__subclasshook__',\n",
       " '__truediv__',\n",
       " '__trunc__',\n",
       " '__xor__',\n",
       " 'as_integer_ratio',\n",
       " 'bit_count',\n",
       " 'bit_length',\n",
       " 'conjugate',\n",
       " 'denominator',\n",
       " 'from_bytes',\n",
       " 'imag',\n",
       " 'numerator',\n",
       " 'real',\n",
       " 'to_bytes']"
      ]
     },
     "execution_count": 16,
     "metadata": {},
     "output_type": "execute_result"
    }
   ],
   "source": [
    "dir(int)"
   ]
  },
  {
   "cell_type": "code",
   "execution_count": 17,
   "id": "7c1f448f-506b-4a14-a8a9-1efc18f2347d",
   "metadata": {},
   "outputs": [
    {
     "data": {
      "text/plain": [
       "['__add__',\n",
       " '__class__',\n",
       " '__contains__',\n",
       " '__delattr__',\n",
       " '__dir__',\n",
       " '__doc__',\n",
       " '__eq__',\n",
       " '__format__',\n",
       " '__ge__',\n",
       " '__getattribute__',\n",
       " '__getitem__',\n",
       " '__getnewargs__',\n",
       " '__gt__',\n",
       " '__hash__',\n",
       " '__init__',\n",
       " '__init_subclass__',\n",
       " '__iter__',\n",
       " '__le__',\n",
       " '__len__',\n",
       " '__lt__',\n",
       " '__mod__',\n",
       " '__mul__',\n",
       " '__ne__',\n",
       " '__new__',\n",
       " '__reduce__',\n",
       " '__reduce_ex__',\n",
       " '__repr__',\n",
       " '__rmod__',\n",
       " '__rmul__',\n",
       " '__setattr__',\n",
       " '__sizeof__',\n",
       " '__str__',\n",
       " '__subclasshook__',\n",
       " 'capitalize',\n",
       " 'casefold',\n",
       " 'center',\n",
       " 'count',\n",
       " 'encode',\n",
       " 'endswith',\n",
       " 'expandtabs',\n",
       " 'find',\n",
       " 'format',\n",
       " 'format_map',\n",
       " 'index',\n",
       " 'isalnum',\n",
       " 'isalpha',\n",
       " 'isascii',\n",
       " 'isdecimal',\n",
       " 'isdigit',\n",
       " 'isidentifier',\n",
       " 'islower',\n",
       " 'isnumeric',\n",
       " 'isprintable',\n",
       " 'isspace',\n",
       " 'istitle',\n",
       " 'isupper',\n",
       " 'join',\n",
       " 'ljust',\n",
       " 'lower',\n",
       " 'lstrip',\n",
       " 'maketrans',\n",
       " 'partition',\n",
       " 'removeprefix',\n",
       " 'removesuffix',\n",
       " 'replace',\n",
       " 'rfind',\n",
       " 'rindex',\n",
       " 'rjust',\n",
       " 'rpartition',\n",
       " 'rsplit',\n",
       " 'rstrip',\n",
       " 'split',\n",
       " 'splitlines',\n",
       " 'startswith',\n",
       " 'strip',\n",
       " 'swapcase',\n",
       " 'title',\n",
       " 'translate',\n",
       " 'upper',\n",
       " 'zfill']"
      ]
     },
     "execution_count": 17,
     "metadata": {},
     "output_type": "execute_result"
    }
   ],
   "source": [
    "dir(str)"
   ]
  },
  {
   "cell_type": "code",
   "execution_count": 18,
   "id": "bf632651-1c4f-48d3-8093-0389ccba1eea",
   "metadata": {},
   "outputs": [],
   "source": [
    "a = 100"
   ]
  },
  {
   "cell_type": "code",
   "execution_count": 19,
   "id": "01a91a9b-5231-4dae-b19b-f351410a4642",
   "metadata": {},
   "outputs": [
    {
     "data": {
      "text/plain": [
       "105"
      ]
     },
     "execution_count": 19,
     "metadata": {},
     "output_type": "execute_result"
    }
   ],
   "source": [
    "a+5"
   ]
  },
  {
   "cell_type": "code",
   "execution_count": 20,
   "id": "63478581-69f5-4372-9634-c3675b76da4b",
   "metadata": {},
   "outputs": [
    {
     "data": {
      "text/plain": [
       "105"
      ]
     },
     "execution_count": 20,
     "metadata": {},
     "output_type": "execute_result"
    }
   ],
   "source": [
    "a.__add__(5)"
   ]
  },
  {
   "cell_type": "code",
   "execution_count": 26,
   "id": "c8f39d85-6b66-415f-9460-28c2a5a6b016",
   "metadata": {},
   "outputs": [],
   "source": [
    "class pwskills :\n",
    "    \n",
    "    def __new__(cls) :\n",
    "        print(\"this is my new\")\n",
    "    \n",
    "    def __init__(self) :\n",
    "        print(\"this is my init\")\n",
    "        \n",
    "        self.mobile_number = 9311426193"
   ]
  },
  {
   "cell_type": "code",
   "execution_count": 27,
   "id": "b645bb65-71e7-4bc6-a5d5-6219905fe5a6",
   "metadata": {},
   "outputs": [
    {
     "name": "stdout",
     "output_type": "stream",
     "text": [
      "this is my new\n"
     ]
    }
   ],
   "source": [
    "pw = pwskills()"
   ]
  },
  {
   "cell_type": "code",
   "execution_count": 23,
   "id": "fcbd67aa-ec42-4630-a780-c383f7c9884f",
   "metadata": {},
   "outputs": [
    {
     "data": {
      "text/plain": [
       "9311426193"
      ]
     },
     "execution_count": 23,
     "metadata": {},
     "output_type": "execute_result"
    }
   ],
   "source": [
    "pw.mobile_number"
   ]
  },
  {
   "cell_type": "code",
   "execution_count": 33,
   "id": "7fd34eb0-5b97-4d90-8565-6f160322a70f",
   "metadata": {},
   "outputs": [],
   "source": [
    "class pwskills1 :\n",
    "    \n",
    "    \n",
    "    \n",
    "    def __init__(self) :\n",
    "        \n",
    "        \n",
    "        \n",
    "        self.mobile_number = 9311426193\n",
    "        \n",
    "    def __str__(self) :\n",
    "        return \"this is my magic call of str\""
   ]
  },
  {
   "cell_type": "code",
   "execution_count": 34,
   "id": "845f6daa-0a11-4e24-819a-f2b63cb1876e",
   "metadata": {},
   "outputs": [],
   "source": [
    "pw1 = pwskills1()"
   ]
  },
  {
   "cell_type": "code",
   "execution_count": 35,
   "id": "1a292e34-3eb9-4262-8258-4834c68b4c7b",
   "metadata": {},
   "outputs": [
    {
     "data": {
      "text/plain": [
       "<__main__.pwskills1 at 0x7efdd4542140>"
      ]
     },
     "execution_count": 35,
     "metadata": {},
     "output_type": "execute_result"
    }
   ],
   "source": [
    "pw1"
   ]
  },
  {
   "cell_type": "code",
   "execution_count": 36,
   "id": "8a9d0e66-8bf6-4556-a534-b08c500200d7",
   "metadata": {},
   "outputs": [
    {
     "data": {
      "text/plain": [
       "<__main__.pwskills1 at 0x7efdd4542140>"
      ]
     },
     "execution_count": 36,
     "metadata": {},
     "output_type": "execute_result"
    }
   ],
   "source": [
    "pw1"
   ]
  },
  {
   "cell_type": "code",
   "execution_count": 38,
   "id": "7e023992-b28f-460d-b8b6-76130f7f64a6",
   "metadata": {},
   "outputs": [
    {
     "name": "stdout",
     "output_type": "stream",
     "text": [
      "this is my magic call of str\n"
     ]
    }
   ],
   "source": [
    "print(pw1)"
   ]
  },
  {
   "cell_type": "code",
   "execution_count": 39,
   "id": "f25ec188-1a44-48aa-97ae-be504f478114",
   "metadata": {},
   "outputs": [],
   "source": [
    " # property decorators"
   ]
  },
  {
   "cell_type": "code",
   "execution_count": 54,
   "id": "a873a489-c06c-4054-9891-40e073c7b6ef",
   "metadata": {},
   "outputs": [],
   "source": [
    "class pwskills :\n",
    "    \n",
    "    def __init__(self , course_price , course_name):\n",
    "        \n",
    "        self.__course_price = course_price\n",
    "        self.course_name = course_name\n",
    "        \n",
    "        @property\n",
    "\n",
    "        def course_price_access(self) :\n",
    "            return self.__course_price\n",
    "        \n",
    "        @course_price_access.setter\n",
    "        def course_price_set(self , price) :\n",
    "            if price <= 3500 :\n",
    "                pass\n",
    "            else :\n",
    "                self.__course_price = price\n",
    "                \n",
    "        @course_price_access.deleter\n",
    "        def delete_course_price(self) :\n",
    "            del self.__course_price\n"
   ]
  },
  {
   "cell_type": "code",
   "execution_count": 55,
   "id": "cfe286f2-4314-4766-b744-706f14af6000",
   "metadata": {},
   "outputs": [],
   "source": [
    "pw = pwskills(3600 , \"data_science_masters\")\n"
   ]
  },
  {
   "cell_type": "code",
   "execution_count": 56,
   "id": "232e5066-e011-42b8-a493-b0d6fe4257b4",
   "metadata": {},
   "outputs": [
    {
     "data": {
      "text/plain": [
       "3600"
      ]
     },
     "execution_count": 56,
     "metadata": {},
     "output_type": "execute_result"
    }
   ],
   "source": [
    "pw._pwskills__course_price"
   ]
  },
  {
   "cell_type": "code",
   "execution_count": 57,
   "id": "cd7889a7-6a2b-4e75-bf8d-3ef9daa45901",
   "metadata": {},
   "outputs": [
    {
     "data": {
      "text/plain": [
       "'data_science_masters'"
      ]
     },
     "execution_count": 57,
     "metadata": {},
     "output_type": "execute_result"
    }
   ],
   "source": [
    "pw.course_name"
   ]
  },
  {
   "cell_type": "code",
   "execution_count": 49,
   "id": "f71fac04-c587-4a02-8d3b-fa625cdd1efe",
   "metadata": {},
   "outputs": [],
   "source": []
  },
  {
   "cell_type": "code",
   "execution_count": null,
   "id": "89d4d71b-6e42-4bde-b451-c564ea8ccf0d",
   "metadata": {},
   "outputs": [],
   "source": []
  }
 ],
 "metadata": {
  "kernelspec": {
   "display_name": "Python 3 (ipykernel)",
   "language": "python",
   "name": "python3"
  },
  "language_info": {
   "codemirror_mode": {
    "name": "ipython",
    "version": 3
   },
   "file_extension": ".py",
   "mimetype": "text/x-python",
   "name": "python",
   "nbconvert_exporter": "python",
   "pygments_lexer": "ipython3",
   "version": "3.10.8"
  }
 },
 "nbformat": 4,
 "nbformat_minor": 5
}
