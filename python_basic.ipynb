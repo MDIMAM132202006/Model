{
 "cells": [
  {
   "cell_type": "code",
   "execution_count": 1,
   "id": "8af7c8f1-f368-4f9d-a1d9-094139994305",
   "metadata": {},
   "outputs": [],
   "source": [
    "a = \"palakkad\""
   ]
  },
  {
   "cell_type": "code",
   "execution_count": 2,
   "id": "d255a367-e596-4ac2-9e8f-c68590e55537",
   "metadata": {},
   "outputs": [
    {
     "data": {
      "text/plain": [
       "str"
      ]
     },
     "execution_count": 2,
     "metadata": {},
     "output_type": "execute_result"
    }
   ],
   "source": [
    "type(a)"
   ]
  },
  {
   "cell_type": "code",
   "execution_count": 4,
   "id": "29f6b115-0a48-4103-80b0-cebf158b9837",
   "metadata": {},
   "outputs": [],
   "source": [
    "b = 2+3j"
   ]
  },
  {
   "cell_type": "code",
   "execution_count": 5,
   "id": "c8ecddd9-05c2-4985-8486-4262485aeff6",
   "metadata": {},
   "outputs": [
    {
     "data": {
      "text/plain": [
       "complex"
      ]
     },
     "execution_count": 5,
     "metadata": {},
     "output_type": "execute_result"
    }
   ],
   "source": [
    "type(b)"
   ]
  },
  {
   "cell_type": "code",
   "execution_count": 7,
   "id": "bbd68826-2b69-4716-a770-410d6c3ec07d",
   "metadata": {},
   "outputs": [
    {
     "data": {
      "text/plain": [
       "2.0"
      ]
     },
     "execution_count": 7,
     "metadata": {},
     "output_type": "execute_result"
    }
   ],
   "source": [
    "b.real"
   ]
  },
  {
   "cell_type": "code",
   "execution_count": 9,
   "id": "a69c47cf-7694-4d15-a4e6-6bd94ba6e934",
   "metadata": {},
   "outputs": [
    {
     "data": {
      "text/plain": [
       "3.0"
      ]
     },
     "execution_count": 9,
     "metadata": {},
     "output_type": "execute_result"
    }
   ],
   "source": [
    "b.imag"
   ]
  },
  {
   "cell_type": "code",
   "execution_count": 12,
   "id": "04ae7b33-f998-4b03-aa98-f08a3ea675b9",
   "metadata": {},
   "outputs": [
    {
     "name": "stdout",
     "output_type": "stream",
     "text": [
      "Quality is not an act, it is a habit.\n"
     ]
    }
   ],
   "source": [
    "s = \"Quality is not an act, it is a habit.\"\n",
    "print(s)"
   ]
  },
  {
   "cell_type": "code",
   "execution_count": 13,
   "id": "9bf00f1c-08be-48d1-86bc-a1611d2529dc",
   "metadata": {},
   "outputs": [
    {
     "data": {
      "text/plain": [
       "'u'"
      ]
     },
     "execution_count": 13,
     "metadata": {},
     "output_type": "execute_result"
    }
   ],
   "source": [
    "s[1]"
   ]
  },
  {
   "cell_type": "code",
   "execution_count": 14,
   "id": "1838cde4-1763-4b96-9c6e-d98a73d232cd",
   "metadata": {},
   "outputs": [
    {
     "data": {
      "text/plain": [
       "'.'"
      ]
     },
     "execution_count": 14,
     "metadata": {},
     "output_type": "execute_result"
    }
   ],
   "source": [
    "s[-1]"
   ]
  },
  {
   "cell_type": "code",
   "execution_count": 15,
   "id": "9cbac59a-9af4-41dc-baf7-368e940b7200",
   "metadata": {},
   "outputs": [
    {
     "data": {
      "text/plain": [
       "'a'"
      ]
     },
     "execution_count": 15,
     "metadata": {},
     "output_type": "execute_result"
    }
   ],
   "source": [
    "s[-8]"
   ]
  },
  {
   "cell_type": "code",
   "execution_count": 18,
   "id": "32e40ea1-d3c1-49ba-838f-de99629d7e7f",
   "metadata": {},
   "outputs": [
    {
     "data": {
      "text/plain": [
       "37"
      ]
     },
     "execution_count": 18,
     "metadata": {},
     "output_type": "execute_result"
    }
   ],
   "source": [
    "len(s)"
   ]
  },
  {
   "cell_type": "code",
   "execution_count": 22,
   "id": "6e597271-d6f6-42ea-a8c3-54af3b4d8c41",
   "metadata": {},
   "outputs": [
    {
     "data": {
      "text/plain": [
       "'Qaiyi o nat ti  ai.'"
      ]
     },
     "execution_count": 22,
     "metadata": {},
     "output_type": "execute_result"
    }
   ],
   "source": [
    "s[0:37:2]"
   ]
  },
  {
   "cell_type": "code",
   "execution_count": 24,
   "id": "69361452-99f7-420c-9169-e200287c4b6d",
   "metadata": {},
   "outputs": [
    {
     "data": {
      "text/plain": [
       "'Quality is not an act, it is a habit.'"
      ]
     },
     "execution_count": 24,
     "metadata": {},
     "output_type": "execute_result"
    }
   ],
   "source": [
    "s[0::1]"
   ]
  },
  {
   "cell_type": "code",
   "execution_count": 26,
   "id": "f444e701-c8f1-4942-82fc-fbca994c4b64",
   "metadata": {},
   "outputs": [
    {
     "data": {
      "text/plain": [
       "'ality is not an act, it is a habit.'"
      ]
     },
     "execution_count": 26,
     "metadata": {},
     "output_type": "execute_result"
    }
   ],
   "source": [
    "s[2::1]"
   ]
  },
  {
   "cell_type": "code",
   "execution_count": 27,
   "id": "39f309df-4c06-4210-a156-cd8abe31c929",
   "metadata": {},
   "outputs": [
    {
     "data": {
      "text/plain": [
       "'.tibah a si ti ,tca na ton si ytilauQ'"
      ]
     },
     "execution_count": 27,
     "metadata": {},
     "output_type": "execute_result"
    }
   ],
   "source": [
    "s[::-1]"
   ]
  },
  {
   "cell_type": "code",
   "execution_count": 28,
   "id": "fdaa50f6-b916-4518-b782-8c51b6dea71c",
   "metadata": {},
   "outputs": [
    {
     "data": {
      "text/plain": [
       "'Quality is not an act, it is a habit.'"
      ]
     },
     "execution_count": 28,
     "metadata": {},
     "output_type": "execute_result"
    }
   ],
   "source": [
    "s[::]"
   ]
  },
  {
   "cell_type": "code",
   "execution_count": 29,
   "id": "dc3533e5-fb06-4803-854c-be44526ebbe0",
   "metadata": {},
   "outputs": [
    {
     "data": {
      "text/plain": [
       "''"
      ]
     },
     "execution_count": 29,
     "metadata": {},
     "output_type": "execute_result"
    }
   ],
   "source": [
    "s[:-90:]"
   ]
  },
  {
   "cell_type": "code",
   "execution_count": 30,
   "id": "b65b2c95-03ec-479f-9057-2b64e4277eb8",
   "metadata": {},
   "outputs": [
    {
     "data": {
      "text/plain": [
       "'.tibah a si ti ,tca na ton si ytilauQ'"
      ]
     },
     "execution_count": 30,
     "metadata": {},
     "output_type": "execute_result"
    }
   ],
   "source": [
    "s[:-900000:-1]"
   ]
  },
  {
   "cell_type": "code",
   "execution_count": 31,
   "id": "234ff985-1c7a-49c6-98d0-8acaa4a5ba13",
   "metadata": {},
   "outputs": [
    {
     "data": {
      "text/plain": [
       "31"
      ]
     },
     "execution_count": 31,
     "metadata": {},
     "output_type": "execute_result"
    }
   ],
   "source": [
    "s.find('h')"
   ]
  },
  {
   "cell_type": "code",
   "execution_count": 32,
   "id": "d0b9498d-1347-49b3-bc5e-c013848aa631",
   "metadata": {},
   "outputs": [
    {
     "data": {
      "text/plain": [
       "2"
      ]
     },
     "execution_count": 32,
     "metadata": {},
     "output_type": "execute_result"
    }
   ],
   "source": [
    "s.find('a')"
   ]
  },
  {
   "cell_type": "code",
   "execution_count": 33,
   "id": "e9f03790-a4f7-42b7-8ea1-07dbf414afc4",
   "metadata": {},
   "outputs": [
    {
     "data": {
      "text/plain": [
       "11"
      ]
     },
     "execution_count": 33,
     "metadata": {},
     "output_type": "execute_result"
    }
   ],
   "source": [
    "s.find('not')"
   ]
  },
  {
   "cell_type": "code",
   "execution_count": 34,
   "id": "78196abf-dbe9-40f1-ab04-e686cde7c08c",
   "metadata": {},
   "outputs": [
    {
     "data": {
      "text/plain": [
       "'Quality is not an act, it is a habit.'"
      ]
     },
     "execution_count": 34,
     "metadata": {},
     "output_type": "execute_result"
    }
   ],
   "source": [
    "s"
   ]
  },
  {
   "cell_type": "code",
   "execution_count": 35,
   "id": "b7beee84-6aec-43f5-959b-77787ec9d51c",
   "metadata": {},
   "outputs": [
    {
     "data": {
      "text/plain": [
       "'QUALITY IS NOT AN ACT, IT IS A HABIT.'"
      ]
     },
     "execution_count": 35,
     "metadata": {},
     "output_type": "execute_result"
    }
   ],
   "source": [
    "s.upper()"
   ]
  },
  {
   "cell_type": "code",
   "execution_count": 36,
   "id": "b950abff-1536-42a8-80c5-b5deb08bcdc2",
   "metadata": {},
   "outputs": [
    {
     "data": {
      "text/plain": [
       "'quality is not an act, it is a habit.'"
      ]
     },
     "execution_count": 36,
     "metadata": {},
     "output_type": "execute_result"
    }
   ],
   "source": [
    "s.lower()"
   ]
  },
  {
   "cell_type": "code",
   "execution_count": 37,
   "id": "48a3e563-6dca-49d5-9a03-c401002ee444",
   "metadata": {},
   "outputs": [
    {
     "data": {
      "text/plain": [
       "'Quality Is Not An Act, It Is A Habit.'"
      ]
     },
     "execution_count": 37,
     "metadata": {},
     "output_type": "execute_result"
    }
   ],
   "source": [
    "s.title()"
   ]
  },
  {
   "cell_type": "code",
   "execution_count": 38,
   "id": "4895ce2f-1743-4d09-9f45-c4207e274eec",
   "metadata": {},
   "outputs": [
    {
     "data": {
      "text/plain": [
       "'quote = Quality is not an act, it is a habit.'"
      ]
     },
     "execution_count": 38,
     "metadata": {},
     "output_type": "execute_result"
    }
   ],
   "source": [
    "'quote = ' + s"
   ]
  },
  {
   "cell_type": "code",
   "execution_count": 40,
   "id": "b868c218-4477-4be0-a9e2-4c1884252e83",
   "metadata": {},
   "outputs": [
    {
     "data": {
      "text/plain": [
       "'US  B'"
      ]
     },
     "execution_count": 40,
     "metadata": {},
     "output_type": "execute_result"
    }
   ],
   "source": [
    "s[1::8].upper()"
   ]
  },
  {
   "cell_type": "code",
   "execution_count": 41,
   "id": "19dee15a-8506-4940-8135-7d9d93e40573",
   "metadata": {},
   "outputs": [
    {
     "ename": "NameError",
     "evalue": "name 'isalpha' is not defined",
     "output_type": "error",
     "traceback": [
      "\u001b[0;31m---------------------------------------------------------------------------\u001b[0m",
      "\u001b[0;31mNameError\u001b[0m                                 Traceback (most recent call last)",
      "Cell \u001b[0;32mIn[41], line 1\u001b[0m\n\u001b[0;32m----> 1\u001b[0m \u001b[43misalpha\u001b[49m(s)\n",
      "\u001b[0;31mNameError\u001b[0m: name 'isalpha' is not defined"
     ]
    }
   ],
   "source": [
    "isalpha(s)"
   ]
  },
  {
   "cell_type": "code",
   "execution_count": 43,
   "id": "e0e19118-eede-424c-a082-4f344eeb636c",
   "metadata": {},
   "outputs": [
    {
     "data": {
      "text/plain": [
       "'ptwtstktitltlts'"
      ]
     },
     "execution_count": 43,
     "metadata": {},
     "output_type": "execute_result"
    }
   ],
   "source": [
    "string = \"p w s k i l l s\"\n",
    "\n",
    "\"t\".join(string.replace(\" \", \"\"))"
   ]
  },
  {
   "cell_type": "code",
   "execution_count": null,
   "id": "4651a05a-8c7f-44e3-a8c4-1e6c89b63de6",
   "metadata": {},
   "outputs": [],
   "source": []
  }
 ],
 "metadata": {
  "kernelspec": {
   "display_name": "Python 3 (ipykernel)",
   "language": "python",
   "name": "python3"
  },
  "language_info": {
   "codemirror_mode": {
    "name": "ipython",
    "version": 3
   },
   "file_extension": ".py",
   "mimetype": "text/x-python",
   "name": "python",
   "nbconvert_exporter": "python",
   "pygments_lexer": "ipython3",
   "version": "3.10.8"
  }
 },
 "nbformat": 4,
 "nbformat_minor": 5
}
