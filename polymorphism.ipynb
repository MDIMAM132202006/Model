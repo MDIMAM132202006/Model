{
 "cells": [
  {
   "cell_type": "code",
   "execution_count": 1,
   "id": "0e255d6f-1e8d-4820-a4e8-a11adf36bcc7",
   "metadata": {},
   "outputs": [],
   "source": [
    "def test(a, b) :\n",
    "    return a+b "
   ]
  },
  {
   "cell_type": "code",
   "execution_count": 2,
   "id": "c722c985-96ff-4322-b37b-a32bd5dd9390",
   "metadata": {},
   "outputs": [
    {
     "data": {
      "text/plain": [
       "7"
      ]
     },
     "execution_count": 2,
     "metadata": {},
     "output_type": "execute_result"
    }
   ],
   "source": [
    "test(3,4)"
   ]
  },
  {
   "cell_type": "code",
   "execution_count": 3,
   "id": "c271808f-93eb-449d-9bbb-555d7da7cb0a",
   "metadata": {},
   "outputs": [
    {
     "data": {
      "text/plain": [
       "'imamm'"
      ]
     },
     "execution_count": 3,
     "metadata": {},
     "output_type": "execute_result"
    }
   ],
   "source": [
    "test(\"imam\" , \"m\")"
   ]
  },
  {
   "cell_type": "code",
   "execution_count": 4,
   "id": "f46c3ccd-ab2a-473c-b7ec-79e8a2864ec3",
   "metadata": {},
   "outputs": [
    {
     "data": {
      "text/plain": [
       "[3, 4, 5, 6, 45, 34, 234]"
      ]
     },
     "execution_count": 4,
     "metadata": {},
     "output_type": "execute_result"
    }
   ],
   "source": [
    "test([3,4,5,6],[45,34,234])"
   ]
  },
  {
   "cell_type": "code",
   "execution_count": 5,
   "id": "d5e2fb0d-e7a7-4fb9-82de-258ede6a00da",
   "metadata": {},
   "outputs": [],
   "source": [
    "class data_science:\n",
    "    \n",
    "    def syllabus(self):\n",
    "        print(\"this is my syllabus\")\n",
    "        "
   ]
  },
  {
   "cell_type": "code",
   "execution_count": 6,
   "id": "6433b7cb-406d-4173-91c2-1e408c4f51c0",
   "metadata": {},
   "outputs": [],
   "source": [
    "class web_dev:\n",
    "    \n",
    "    def syllabus(self):\n",
    "        print(\"this is my web\")"
   ]
  },
  {
   "cell_type": "code",
   "execution_count": 7,
   "id": "0ace7ff2-d845-4574-b6aa-fcad5d10361c",
   "metadata": {},
   "outputs": [],
   "source": [
    "def class_parcer(class_obj):\n",
    "    for i in class_obj :\n",
    "        i.syllabus()       "
   ]
  },
  {
   "cell_type": "code",
   "execution_count": 8,
   "id": "94b444e6-6284-4759-aa01-266fb61cfbc3",
   "metadata": {},
   "outputs": [],
   "source": [
    "data_science = data_science()"
   ]
  },
  {
   "cell_type": "code",
   "execution_count": 10,
   "id": "98a39927-7fbb-4eb2-892c-22974082e9b7",
   "metadata": {},
   "outputs": [],
   "source": [
    "web_dev = web_dev()"
   ]
  },
  {
   "cell_type": "code",
   "execution_count": 11,
   "id": "66f95b22-6c5c-4eed-ba29-9958737c056f",
   "metadata": {},
   "outputs": [],
   "source": [
    "class_obj = [data_science , web_dev]"
   ]
  },
  {
   "cell_type": "code",
   "execution_count": 12,
   "id": "bd91f1f7-44a2-4c59-95e2-bed429069072",
   "metadata": {},
   "outputs": [
    {
     "name": "stdout",
     "output_type": "stream",
     "text": [
      "this is my syllabus\n",
      "this is my web\n"
     ]
    }
   ],
   "source": [
    "class_parcer(class_obj)"
   ]
  },
  {
   "cell_type": "code",
   "execution_count": 13,
   "id": "035a006b-60a2-4ccc-9fed-c1bdd5f255cd",
   "metadata": {},
   "outputs": [],
   "source": [
    "# encapsulation"
   ]
  },
  {
   "cell_type": "code",
   "execution_count": 14,
   "id": "c50bb453-8584-4430-93bc-8413d0773732",
   "metadata": {},
   "outputs": [],
   "source": [
    "class test:\n",
    "    \n",
    "    def __init__(self , a, b):\n",
    "        self.a = a\n",
    "        self.b = b"
   ]
  },
  {
   "cell_type": "code",
   "execution_count": 15,
   "id": "01e45e2f-a37d-4076-85c0-ab9f8da43056",
   "metadata": {},
   "outputs": [],
   "source": [
    "t = test(23,34)"
   ]
  },
  {
   "cell_type": "code",
   "execution_count": 16,
   "id": "0073685a-9f36-4506-94d3-3238b1298f01",
   "metadata": {},
   "outputs": [
    {
     "data": {
      "text/plain": [
       "23"
      ]
     },
     "execution_count": 16,
     "metadata": {},
     "output_type": "execute_result"
    }
   ],
   "source": [
    "t.a"
   ]
  },
  {
   "cell_type": "code",
   "execution_count": 21,
   "id": "1ce4e969-4d76-4383-8820-7cfbe8c3b941",
   "metadata": {},
   "outputs": [],
   "source": [
    "class car :\n",
    "    def __init__(self , year , make , model , speed ):\n",
    "        \n",
    "        self.__year = year\n",
    "        self.__make = make\n",
    "        self.__model = model\n",
    "        self.__speed = 0\n",
    "    \n",
    "    def set_speed(self,speed):\n",
    "        self._speed = 0 if speed < 0 else speed\n",
    "        \n",
    "    def get_speed(self) :\n",
    "        return self.__speed\n",
    "        "
   ]
  },
  {
   "cell_type": "code",
   "execution_count": 22,
   "id": "2a93bfec-de43-45f8-aee8-b8b08a5f9446",
   "metadata": {},
   "outputs": [],
   "source": [
    "c = car(2021,\"toyota\", \"innova\", 12 )"
   ]
  },
  {
   "cell_type": "code",
   "execution_count": 23,
   "id": "831fe702-5cb4-417a-a24d-d5b3f1a8f872",
   "metadata": {},
   "outputs": [
    {
     "data": {
      "text/plain": [
       "2021"
      ]
     },
     "execution_count": 23,
     "metadata": {},
     "output_type": "execute_result"
    }
   ],
   "source": [
    "c._car__year\n"
   ]
  },
  {
   "cell_type": "code",
   "execution_count": 24,
   "id": "e2998d18-172a-46f0-9311-9bf95768e736",
   "metadata": {},
   "outputs": [],
   "source": [
    "c.set_speed(2345)"
   ]
  },
  {
   "cell_type": "code",
   "execution_count": 27,
   "id": "b20dae99-bf17-4072-89be-0328e30322b8",
   "metadata": {},
   "outputs": [
    {
     "data": {
      "text/plain": [
       "0"
      ]
     },
     "execution_count": 27,
     "metadata": {},
     "output_type": "execute_result"
    }
   ],
   "source": [
    "c.get_speed()"
   ]
  },
  {
   "cell_type": "code",
   "execution_count": 29,
   "id": "66f9d185-ff85-4b2d-bdd4-9d2d21a088da",
   "metadata": {},
   "outputs": [],
   "source": [
    "c.set_speed(2345)"
   ]
  },
  {
   "cell_type": "code",
   "execution_count": 30,
   "id": "d392d517-3fb7-45c3-bd78-d2a35e8f9206",
   "metadata": {},
   "outputs": [
    {
     "data": {
      "text/plain": [
       "0"
      ]
     },
     "execution_count": 30,
     "metadata": {},
     "output_type": "execute_result"
    }
   ],
   "source": [
    "c.get_speed()"
   ]
  },
  {
   "cell_type": "code",
   "execution_count": 33,
   "id": "898509c4-bdd9-46be-9fef-0511737c01d0",
   "metadata": {},
   "outputs": [],
   "source": [
    "class bank_account :\n",
    "    def __init__(self , balance):\n",
    "        self.__balance = balance\n",
    "        \n",
    "    def deposit(self , amount) :\n",
    "        self.__balance = self.__balance + amount\n",
    "        \n",
    "    def withdraw(self,amount) :\n",
    "        if self.__balance >= amount:\n",
    "            self.__balance = self.__balance - amount\n",
    "            return True\n",
    "        else :\n",
    "            return False\n",
    "    \n",
    "    def get_balance(self):\n",
    "        return self.__balance\n",
    "        "
   ]
  },
  {
   "cell_type": "code",
   "execution_count": 34,
   "id": "ce92f248-9d37-41ba-bb1b-6f34bf7a8730",
   "metadata": {},
   "outputs": [],
   "source": [
    "imam = bank_account(1000)"
   ]
  },
  {
   "cell_type": "code",
   "execution_count": 35,
   "id": "0c652c6e-b6b4-4f61-a78d-00f2c2457c49",
   "metadata": {},
   "outputs": [
    {
     "data": {
      "text/plain": [
       "1000"
      ]
     },
     "execution_count": 35,
     "metadata": {},
     "output_type": "execute_result"
    }
   ],
   "source": [
    "imam.get_balance()"
   ]
  },
  {
   "cell_type": "code",
   "execution_count": 36,
   "id": "8c18273d-bfff-4f2c-8e92-95e45b7f4b5e",
   "metadata": {},
   "outputs": [],
   "source": [
    "imam.deposit(122334)"
   ]
  },
  {
   "cell_type": "code",
   "execution_count": 37,
   "id": "304ec5bf-e1dc-4c19-a626-41f9ff2dd578",
   "metadata": {},
   "outputs": [
    {
     "data": {
      "text/plain": [
       "123334"
      ]
     },
     "execution_count": 37,
     "metadata": {},
     "output_type": "execute_result"
    }
   ],
   "source": [
    "imam.get_balance()"
   ]
  },
  {
   "cell_type": "code",
   "execution_count": 38,
   "id": "b80cd318-ce89-4828-9c0a-59c21d55f890",
   "metadata": {},
   "outputs": [],
   "source": [
    "# inheritance"
   ]
  },
  {
   "cell_type": "code",
   "execution_count": 39,
   "id": "7bd56492-67f6-4a6a-ae5d-426965fc102d",
   "metadata": {},
   "outputs": [],
   "source": [
    "class test:\n",
    "    \n",
    "    def test_meth(self) :\n",
    "        return \"this is my first class\""
   ]
  },
  {
   "cell_type": "code",
   "execution_count": 40,
   "id": "d74437ac-47d5-4557-a757-cf77789ede05",
   "metadata": {},
   "outputs": [],
   "source": [
    "class child_test(test):\n",
    "    pass"
   ]
  },
  {
   "cell_type": "code",
   "execution_count": 41,
   "id": "a80e7485-57a4-47be-8f23-13d1bcb4fa90",
   "metadata": {},
   "outputs": [],
   "source": [
    "child_test_obj = child_test()"
   ]
  },
  {
   "cell_type": "code",
   "execution_count": 42,
   "id": "0ec4e619-1bdc-4443-868d-70cd70e5cc70",
   "metadata": {},
   "outputs": [
    {
     "data": {
      "text/plain": [
       "'this is my first class'"
      ]
     },
     "execution_count": 42,
     "metadata": {},
     "output_type": "execute_result"
    }
   ],
   "source": [
    "child_test_obj.test_meth()"
   ]
  },
  {
   "cell_type": "code",
   "execution_count": 43,
   "id": "0f406f2e-c96a-4600-8038-0dc31d2804f0",
   "metadata": {},
   "outputs": [],
   "source": [
    "class class1:\n",
    "    \n",
    "    def test_class1(self):\n",
    "        return \"this is a meth from class1\""
   ]
  },
  {
   "cell_type": "code",
   "execution_count": 44,
   "id": "08236d4e-376e-4b22-814d-ad27a5f4cd98",
   "metadata": {},
   "outputs": [],
   "source": [
    "class class2(class1):\n",
    "    def test_class2(self) :\n",
    "        return \"this is a meth from class 2\""
   ]
  },
  {
   "cell_type": "code",
   "execution_count": 46,
   "id": "a2aebd31-b4ae-4398-b232-66785129b768",
   "metadata": {},
   "outputs": [],
   "source": [
    "class class3(class2):\n",
    "    pass"
   ]
  },
  {
   "cell_type": "code",
   "execution_count": 47,
   "id": "08a7af0f-4ae0-4804-95b0-d0c982dd358d",
   "metadata": {},
   "outputs": [],
   "source": [
    "obj_class3 = class3()"
   ]
  },
  {
   "cell_type": "code",
   "execution_count": 48,
   "id": "417fc81a-3588-4ed0-b56c-8710ca0d4492",
   "metadata": {},
   "outputs": [
    {
     "data": {
      "text/plain": [
       "'this is a meth from class1'"
      ]
     },
     "execution_count": 48,
     "metadata": {},
     "output_type": "execute_result"
    }
   ],
   "source": [
    "obj_class3.test_class1()"
   ]
  },
  {
   "cell_type": "code",
   "execution_count": 50,
   "id": "2cafbfe5-47e1-456a-9f33-4719dcbc4eb5",
   "metadata": {},
   "outputs": [
    {
     "data": {
      "text/plain": [
       "'this is a meth from class 2'"
      ]
     },
     "execution_count": 50,
     "metadata": {},
     "output_type": "execute_result"
    }
   ],
   "source": [
    "obj_class3.test_class2()"
   ]
  },
  {
   "cell_type": "code",
   "execution_count": 51,
   "id": "580a374c-6f7c-4520-97be-6cb2b9c56b01",
   "metadata": {},
   "outputs": [],
   "source": [
    "class class1:\n",
    "    \n",
    "    def test_class1(self) :\n",
    "        return \"this is a class1\""
   ]
  },
  {
   "cell_type": "code",
   "execution_count": 52,
   "id": "edb2ee02-dcdf-42f4-b8cc-60580441afa2",
   "metadata": {},
   "outputs": [],
   "source": [
    "class class2:\n",
    "    \n",
    "    def test_class2(self):\n",
    "        return \"this is class2\""
   ]
  },
  {
   "cell_type": "code",
   "execution_count": 53,
   "id": "e5374567-c0a4-4762-adc8-42f82f353206",
   "metadata": {},
   "outputs": [],
   "source": [
    "class class3(class1,class2):\n",
    "    pass"
   ]
  },
  {
   "cell_type": "code",
   "execution_count": 54,
   "id": "ad560b38-8c47-4032-bbae-a1cf42eca1f4",
   "metadata": {},
   "outputs": [],
   "source": [
    "obj_class3 = class3()"
   ]
  },
  {
   "cell_type": "code",
   "execution_count": 55,
   "id": "3c71291f-7e16-4ac3-b476-ca9dae086f76",
   "metadata": {},
   "outputs": [
    {
     "data": {
      "text/plain": [
       "'this is a class1'"
      ]
     },
     "execution_count": 55,
     "metadata": {},
     "output_type": "execute_result"
    }
   ],
   "source": [
    "obj_class3.test_class1()"
   ]
  },
  {
   "cell_type": "code",
   "execution_count": 56,
   "id": "5cc50e4a-f2dc-4356-a1ab-b286c2a63e12",
   "metadata": {},
   "outputs": [
    {
     "data": {
      "text/plain": [
       "'this is class2'"
      ]
     },
     "execution_count": 56,
     "metadata": {},
     "output_type": "execute_result"
    }
   ],
   "source": [
    "obj_class3.test_class2()"
   ]
  },
  {
   "cell_type": "code",
   "execution_count": 57,
   "id": "377681e5-a10c-4f19-89e9-786a05fb1595",
   "metadata": {},
   "outputs": [],
   "source": [
    "# abstraction"
   ]
  },
  {
   "cell_type": "code",
   "execution_count": 61,
   "id": "66cca3fe-acf6-491f-82c6-bc08b0089062",
   "metadata": {},
   "outputs": [],
   "source": [
    "import abc\n",
    "class  pwskills :\n",
    "    \n",
    "    @abc.abstractmethod\n",
    "    def students_details(self):\n",
    "        pass\n",
    "    @abc.abstractmethod\n",
    "    def students_assignment(self):\n",
    "        pass\n",
    "    @abc.abstractmethod\n",
    "    def student_marks(self):\n",
    "        pass"
   ]
  },
  {
   "cell_type": "code",
   "execution_count": 65,
   "id": "7ef1a8d1-b211-404d-baf3-b2be00d015d0",
   "metadata": {},
   "outputs": [],
   "source": [
    "class student_details(pwskills):\n",
    "    \n",
    "    def students_details(self):\n",
    "        return \"this is a methfor taking students details\"\n",
    "    \n",
    "    def student_assignment(self):\n",
    "        return \"this is a met for assign details for a particular student\"\n",
    "    \n",
    "    "
   ]
  },
  {
   "cell_type": "code",
   "execution_count": 66,
   "id": "329d926b-7d11-40ea-a9b4-76610aea5198",
   "metadata": {},
   "outputs": [],
   "source": [
    "class data_science_masters(pwskills):\n",
    "    \n",
    "    def students_details(self):\n",
    "        return \"this will return a student details for data science masters \"\n",
    "    \n",
    "    def student_assignment(self):\n",
    "        return \"this will give you a student assignment details for data science masters\"\n",
    "    "
   ]
  },
  {
   "cell_type": "code",
   "execution_count": 67,
   "id": "1ca95cd4-e590-4dfc-a01a-d51b3699429d",
   "metadata": {},
   "outputs": [
    {
     "data": {
      "text/plain": [
       "'this will return a student details for data science masters '"
      ]
     },
     "execution_count": 67,
     "metadata": {},
     "output_type": "execute_result"
    }
   ],
   "source": [
    "dsm = data_science_masters()\n",
    "dsm.students_details()"
   ]
  },
  {
   "cell_type": "code",
   "execution_count": null,
   "id": "88731530-9c2b-43b8-bd41-eea05bc13680",
   "metadata": {},
   "outputs": [],
   "source": []
  }
 ],
 "metadata": {
  "kernelspec": {
   "display_name": "Python 3 (ipykernel)",
   "language": "python",
   "name": "python3"
  },
  "language_info": {
   "codemirror_mode": {
    "name": "ipython",
    "version": 3
   },
   "file_extension": ".py",
   "mimetype": "text/x-python",
   "name": "python",
   "nbconvert_exporter": "python",
   "pygments_lexer": "ipython3",
   "version": "3.10.8"
  }
 },
 "nbformat": 4,
 "nbformat_minor": 5
}
